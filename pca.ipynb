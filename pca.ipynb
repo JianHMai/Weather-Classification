{
 "cells": [
  {
   "cell_type": "code",
   "execution_count": 1,
   "id": "f8398d22",
   "metadata": {},
   "outputs": [],
   "source": [
    "import cv2\n",
    "from sklearn.decomposition import PCA\n",
    "import os\n",
    "import glob \n",
    "from PIL import Image"
   ]
  },
  {
   "cell_type": "code",
   "execution_count": 2,
   "id": "c857f8bf",
   "metadata": {},
   "outputs": [],
   "source": [
    "# Locate dataset folder\n",
    "cwd = os.getcwd() + '\\\\dataset\\\\'\n",
    "dataset = os.path.dirname(cwd)\n",
    "\n",
    "# Location for PCA folder\n",
    "pca_folder = os.getcwd() + '\\\\PCA_dataset\\\\'\n",
    "\n",
    "# If PCA folder does not exist create PCA folder\n",
    "if not os.path.exists(pca_folder):\n",
    "    os.makedirs(pca_folder)"
   ]
  },
  {
   "cell_type": "code",
   "execution_count": 3,
   "id": "d76699f0",
   "metadata": {},
   "outputs": [
    {
     "name": "stdout",
     "output_type": "stream",
     "text": [
      "Successfully Completed\n"
     ]
    }
   ],
   "source": [
    "# Loop through dataset folder\n",
    "for data in os.listdir(cwd):\n",
    "    # Retrieve the folders within dataset\n",
    "    directory = os.path.join(dataset, data, '*')\n",
    "    directory2 = glob.glob(directory)\n",
    "\n",
    "    # Location to check for folders within PCA_folder containing the labeled images\n",
    "    pca_weather_folders = pca_folder + data + \"\\\\\"\n",
    "\n",
    "    # Check if location for labeled images exist\n",
    "    if not os.path.exists(pca_weather_folders):\n",
    "        os.makedirs(pca_weather_folders)\n",
    "\n",
    "    # Loop through images within folder\n",
    "    for img_location in directory2:\n",
    "        original_location = img_location\n",
    "        # find the location of the images\n",
    "        shortened_location = img_location[img_location.find(data):]\n",
    "        try: \n",
    "            # Open images\n",
    "            img_location = cv2.imread(img_location)\n",
    "            \n",
    "            # Retrieve the RGB array of image\n",
    "            red, green, blue = cv2.split(img_location)\n",
    "            \n",
    "            # Create PCA with 95% variance\n",
    "            pca = PCA(n_components=0.95)\n",
    "\n",
    "            # Transform and invert red \n",
    "            red_transformed = pca.fit_transform(red)\n",
    "            red_inverted = pca.inverse_transform(red_transformed)\n",
    "            \n",
    "            # Transform and invert green\n",
    "            green_transformed = pca.fit_transform(green)\n",
    "            green_inverted = pca.inverse_transform(green_transformed)\n",
    "            \n",
    "            # Transform and invert blue\n",
    "            blue_transformed = pca.fit_transform(blue)\n",
    "            blue_inverted = pca.inverse_transform(blue_transformed)\n",
    "\n",
    "            # Merge the red green and blue\n",
    "            img_compressed = (cv2.merge((red_inverted, green_inverted, blue_inverted)))\n",
    "            \n",
    "            # Save image\n",
    "            cv2.imwrite('PCA_dataset\\\\' + shortened_location, img_compressed)\n",
    "        except:\n",
    "            print(\"Error at location: \", shortened_location)\n",
    "            # Delete image\n",
    "            os.remove(original_location)\n",
    "            # Move to next image\n",
    "            continue\n",
    "print(\"Successfully Completed\")"
   ]
  }
 ],
 "metadata": {
  "kernelspec": {
   "display_name": "Python 3 (ipykernel)",
   "language": "python",
   "name": "python3"
  },
  "language_info": {
   "codemirror_mode": {
    "name": "ipython",
    "version": 3
   },
   "file_extension": ".py",
   "mimetype": "text/x-python",
   "name": "python",
   "nbconvert_exporter": "python",
   "pygments_lexer": "ipython3",
   "version": "3.9.12"
  }
 },
 "nbformat": 4,
 "nbformat_minor": 5
}
