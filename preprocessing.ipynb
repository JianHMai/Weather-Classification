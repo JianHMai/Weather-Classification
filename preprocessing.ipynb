{
 "cells": [
  {
   "cell_type": "code",
   "execution_count": 1,
   "id": "cc4f3c0f",
   "metadata": {},
   "outputs": [],
   "source": [
    "from tensorflow.keras.preprocessing.image import ImageDataGenerator, load_img, img_to_array\n",
    "import os\n",
    "import glob \n",
    "import cv2 as cv"
   ]
  },
  {
   "cell_type": "code",
   "execution_count": 2,
   "id": "a8c3e5f0",
   "metadata": {},
   "outputs": [],
   "source": [
    "# Retrieve current directory\n",
    "cwd = os.getcwd() + '\\\\dataset\\\\'\n",
    "root_dir = os.path.dirname(cwd)"
   ]
  },
  {
   "cell_type": "code",
   "execution_count": 3,
   "id": "153e3fbe",
   "metadata": {},
   "outputs": [
    {
     "name": "stdout",
     "output_type": "stream",
     "text": [
      "Error at Image Location:  fogsmog\\4514.jpg\n",
      "Error at Image Location:  snow\\1187.jpg\n",
      "Successfully Completed\n"
     ]
    }
   ],
   "source": [
    "# Normalize images\n",
    "for data in os.listdir(cwd):\n",
    "    directory = os.path.join(root_dir, data, '*')\n",
    "    directory2 = glob.glob(directory)\n",
    "    for img_location in directory2:\n",
    "        try:\n",
    "            # Read image\n",
    "            pic = cv.imread(img_location)\n",
    "            # Resize new image to 100x100\n",
    "            pic = cv.resize(pic, (100,100))\n",
    "            # Normalize images\n",
    "            cv.normalize(pic, pic, 0, 225, cv.NORM_MINMAX)\n",
    "            # Override iamges\n",
    "            cv.imwrite(img_location, pic)\n",
    "        except:\n",
    "            # find the location of the images\n",
    "            shortened_location = img_location[img_location.find(data):]\n",
    "            print(\"Error at Image Location: \", shortened_location)\n",
    "            # Delete image\n",
    "            os.remove(img_location)\n",
    "            # Move to next image\n",
    "            continue\n",
    "print(\"Successfully Completed\")"
   ]
  },
  {
   "cell_type": "code",
   "execution_count": 4,
   "id": "f538d71e",
   "metadata": {},
   "outputs": [
    {
     "name": "stdout",
     "output_type": "stream",
     "text": [
      "Successfully Completed\n"
     ]
    }
   ],
   "source": [
    "# Used for data augmentation \n",
    "for data in os.listdir(cwd):\n",
    "    directory = os.path.join(root_dir, data, '*')\n",
    "    directory2 = glob.glob(directory)\n",
    "    for img_location in directory2:\n",
    "        try:\n",
    "            # Rotate images of up to 30 degrees\n",
    "            datagen = ImageDataGenerator(rotation_range = 30, fill_mode='nearest')\n",
    "            \n",
    "            # Load original image\n",
    "            img_location = load_img(img_location)\n",
    "            # Convert original image to array\n",
    "            x = img_to_array(img_location)\n",
    "            # Covert array to 4D\n",
    "            x = x.reshape((1,) + x.shape)\n",
    "            \n",
    "            i = 0\n",
    "            # Generate and save five rotated images\n",
    "            for batch in datagen.flow(x,save_to_dir=os.getcwd() + '\\\\dataset\\\\' + data + \"\\\\\", save_prefix='generated', save_format='jpg'):\n",
    "                if i > 4:\n",
    "                    break\n",
    "                i += 1\n",
    "        except:\n",
    "            print(\"Error at Image Location: \", img_location)\n",
    "            # Delete image\n",
    "            os.remove(img_location)\n",
    "            # Move to next image\n",
    "            continue\n",
    "print(\"Successfully Completed\")"
   ]
  }
 ],
 "metadata": {
  "kernelspec": {
   "display_name": "Python 3 (ipykernel)",
   "language": "python",
   "name": "python3"
  },
  "language_info": {
   "codemirror_mode": {
    "name": "ipython",
    "version": 3
   },
   "file_extension": ".py",
   "mimetype": "text/x-python",
   "name": "python",
   "nbconvert_exporter": "python",
   "pygments_lexer": "ipython3",
   "version": "3.9.12"
  }
 },
 "nbformat": 4,
 "nbformat_minor": 5
}
